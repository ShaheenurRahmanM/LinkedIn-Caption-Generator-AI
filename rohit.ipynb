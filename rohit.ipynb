{
 "cells": [
  {
   "cell_type": "code",
   "execution_count": 6,
   "id": "6fc027a9",
   "metadata": {},
   "outputs": [
    {
     "name": "stdout",
     "output_type": "stream",
     "text": [
      "🎯 LinkedIn Caption Generator (Secure API Key via .env)\n",
      "\n",
      "🧠 Generating your LinkedIn caption...\n",
      "\n",
      "Title: From Imposter Syndrome to Self-Belief: My Transformative Internship Journey\n",
      "\n",
      "Looking back on my internship journey, I've come to realize that it was not just a professional milestone, but a profound personal growth experience as well. I began my internship with a sense of trepidation, often feeling like an imposter among the seasoned professionals.\n",
      "\n",
      "I remember my first day, I was filled with self-doubt, wondering if I truly belonged in this environment. The fear of being exposed as inadequate or unqualified, commonly known as imposter syndrome, was a constant companion.\n",
      "\n",
      "However, as days turned into weeks, and weeks into months, I found myself immersed in a variety of challenging and rewarding tasks. I was surrounded by a supportive team, always ready to guide and encourage me.\n",
      "\n",
      "Through each project, I learned to trust my abilities, to speak up,\n"
     ]
    }
   ],
   "source": [
    "from openai import OpenAI\n",
    "from dotenv import load_dotenv\n",
    "import os\n",
    "\n",
    "# 🔐 Load API key from .env\n",
    "load_dotenv()\n",
    "api_key = os.getenv(\"OPENROUTER_API_KEY\")\n",
    "if not api_key:\n",
    "    raise ValueError(\"Missing OPENROUTER_API_KEY in .env\")\n",
    "\n",
    "# ✅ Set up client\n",
    "client = OpenAI(api_key=api_key, base_url=\"https://openrouter.ai/api/v1\")\n",
    "\n",
    "def generate_caption(prompt):\n",
    "    messages = [\n",
    "        {\"role\": \"system\", \"content\": \"You are a professional LinkedIn content creator who writes concise, insightful posts.\"},\n",
    "        {\"role\": \"user\", \"content\": prompt}\n",
    "    ]\n",
    "    response = client.chat.completions.create(\n",
    "        model=\"mistralai/mistral-7b-instruct:free\",\n",
    "        messages=messages,\n",
    "        temperature=0.7,\n",
    "        max_tokens=200\n",
    "    )\n",
    "    return response.choices[0].message.content.strip()\n",
    "\n",
    "def get_template(category, topic, context, tone):\n",
    "    templates = {\n",
    "        \"growth\": f\"Write a LinkedIn post about {topic}, focusing on {context}. Make it value-driven and use a {tone} tone.\",\n",
    "        \"data\": f\"Write a LinkedIn post about {topic} in a data storytelling style. Focus on {context}. Use a {tone} tone.\",\n",
    "        \"tech\": f\"Write a tech-focused LinkedIn post on {topic}. Share your insight about {context}. Use a {tone} tone.\",\n",
    "        \"career\": f\"Write a reflective LinkedIn post about {topic}, focusing on {context}. Keep the tone {tone} and personal.\",\n",
    "        \"student\": f\"Write a humble, student-style LinkedIn post about {topic}. Reflect on {context} using a {tone} tone.\",\n",
    "        \"founder\": f\"Write a startup founder-style LinkedIn post about {topic}. Focus on {context}, and use a {tone} tone. Make it personal.\"\n",
    "    }\n",
    "    return templates.get(category, \"Write a short, insightful LinkedIn post.\")\n",
    "\n",
    "def main():\n",
    "    print(\"🎯 LinkedIn Caption Generator (Secure API Key via .env)\")\n",
    "    choice = input(\"Choose caption type (1-Growth,2-Data,3-Tech,4-Career,5-Student,6-Founder): \").strip()\n",
    "    mapping = {\"1\":\"growth\",\"2\":\"data\",\"3\":\"tech\",\"4\":\"career\",\"5\":\"student\",\"6\":\"founder\"}\n",
    "    category = mapping.get(choice)\n",
    "    if not category:\n",
    "        print(\"❌ Invalid choice, please select 1–6.\")\n",
    "        return\n",
    "\n",
    "    topic = input(\"📝 Topic/Event: \").strip()\n",
    "    context = input(\"🔍 Focus/Insight: \").strip()\n",
    "    tone = input(\"🎙️ Tone: \").strip()\n",
    "\n",
    "    prompt = get_template(category, topic, context, tone)\n",
    "    print(\"\\n🧠 Generating your LinkedIn caption...\\n\")\n",
    "    print(generate_caption(prompt))\n",
    "\n",
    "if __name__ == \"__main__\":\n",
    "    main()\n"
   ]
  },
  {
   "cell_type": "code",
   "execution_count": null,
   "id": "748728b9",
   "metadata": {},
   "outputs": [],
   "source": []
  }
 ],
 "metadata": {
  "kernelspec": {
   "display_name": "Python 3",
   "language": "python",
   "name": "python3"
  },
  "language_info": {
   "codemirror_mode": {
    "name": "ipython",
    "version": 3
   },
   "file_extension": ".py",
   "mimetype": "text/x-python",
   "name": "python",
   "nbconvert_exporter": "python",
   "pygments_lexer": "ipython3",
   "version": "3.12.1"
  }
 },
 "nbformat": 4,
 "nbformat_minor": 5
}
